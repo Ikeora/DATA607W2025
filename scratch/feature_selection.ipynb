{
 "cells": [
  {
   "cell_type": "code",
   "execution_count": 3,
   "metadata": {},
   "outputs": [],
   "source": [
    "import numpy as np\n",
    "import pandas as pd\n",
    "from matplotlib import pyplot as plt\n",
    "from sklearn.model_selection import RepeatedKFold, cross_val_score\n",
    "from sklearn.linear_model import LinearRegression"
   ]
  },
  {
   "cell_type": "code",
   "execution_count": 4,
   "metadata": {},
   "outputs": [],
   "source": [
    "X = pd.read_csv(\"../data/auto_preprocessed.csv\")\n",
    "y = X.pop(\"mpg\")"
   ]
  },
  {
   "cell_type": "code",
   "execution_count": 5,
   "metadata": {},
   "outputs": [],
   "source": [
    "numerical_feature_lists = [\n",
    "    [\"weight\"],\n",
    "    [\"weight\", \"year\"],\n",
    "    [\"acceleration\", \"weight\", \"year\"],\n",
    "    [\"cylinders\", \"displacement\", \"weight\", \"year\"],\n",
    "    [\"acceleration\", \"cylinders\", \"horsepower\", \"weight\", \"year\"],\n",
    "    [\"acceleration\", \"cylinders\", \"displacement\", \"horsepower\", \"weight\", \"year\"],\n",
    "]"
   ]
  },
  {
   "cell_type": "code",
   "execution_count": null,
   "metadata": {},
   "outputs": [
    {
     "data": {
      "text/plain": [
       "array([18.87, 11.89, 11.97, 12.02, 12.14, 12.19])"
      ]
     },
     "execution_count": 11,
     "metadata": {},
     "output_type": "execute_result"
    }
   ],
   "source": [
    "losses = np.array(\n",
    "    [\n",
    "        -cross_val_score(\n",
    "            LinearRegression(),\n",
    "            X[features],\n",
    "            y,\n",
    "            cv=RepeatedKFold(n_repeats=100),\n",
    "            scoring=\"neg_mean_squared_error\",\n",
    "        ).mean()\n",
    "        for features in numerical_feature_lists\n",
    "    ]\n",
    ")\n",
    "losses.round(2)"
   ]
  },
  {
   "cell_type": "code",
   "execution_count": null,
   "metadata": {},
   "outputs": [],
   "source": []
  }
 ],
 "metadata": {
  "kernelspec": {
   "display_name": ".venv",
   "language": "python",
   "name": "python3"
  },
  "language_info": {
   "codemirror_mode": {
    "name": "ipython",
    "version": 3
   },
   "file_extension": ".py",
   "mimetype": "text/x-python",
   "name": "python",
   "nbconvert_exporter": "python",
   "pygments_lexer": "ipython3",
   "version": "3.13.0"
  }
 },
 "nbformat": 4,
 "nbformat_minor": 2
}
