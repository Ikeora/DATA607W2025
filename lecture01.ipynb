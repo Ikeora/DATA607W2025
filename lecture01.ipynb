{
 "cells": [
  {
   "cell_type": "code",
   "execution_count": 1,
   "metadata": {},
   "outputs": [],
   "source": [
    "import numpy as np\n",
    "import pandas as pd\n",
    "from matplotlib import pyplot as plt"
   ]
  },
  {
   "cell_type": "markdown",
   "metadata": {},
   "source": [
    "# DATA 607 - Machine Learning\n",
    "\n",
    "## Class 1: Introduction\n",
    "\n",
    "### 2025.02.24\n"
   ]
  },
  {
   "cell_type": "markdown",
   "metadata": {},
   "source": [
    "#### Machine learning\n",
    "\n",
    "- _Learn_, from data $(x_i, y_i)$, relationship between _variables_ $x$ and $y$.\n",
    "\n",
    "- Relationship is _stochastic_:\n",
    "\n",
    "  $$\n",
    "  y\\sim p(y\\mid x)\n",
    "  $$\n",
    "\n",
    "- $p$ is _unknown_ and _unknowable_.\n",
    "\n",
    "- Learn an approximation to $p$ itself or to its **regression function**,\n",
    "\n",
    "  $$\n",
    "  f(x) =\\mathbb{E}[y\\mid x].\n",
    "  $$\n"
   ]
  },
  {
   "cell_type": "markdown",
   "metadata": {},
   "source": [
    "#### Example: Predicting sales from ad spend\n",
    "\n",
    "> \"Suppose that we are statistical consultants hired by a client to\n",
    "> investigate the association between advertising and sales of a particular\n",
    "> product.\"\n",
    "\n",
    "- We're given sales numbers and ad spend on TV, radio, and newspaper for 200 markets.\n",
    "\n",
    "- We don't know $p$, the true distribution of sales given ad spend, but we might approximate it by the **linear model**:\n",
    "\n",
    "  $$\n",
    "  p \\approx \\operatorname{Normal}(\\texttt{sales}\\mid a + b\\,\\texttt{TV} + c\\,\\texttt{radio} + d\\,\\texttt{newspaper},\\,\\sigma^2)\n",
    "  $$\n",
    "\n",
    "- If we don't care about $\\sigma^2$, we might just estimate the regression function, $f$:\n",
    "  $$\n",
    "  \\begin{aligned}\n",
    "  f(\\texttt{TV},\\,\\texttt{radio},\\,\\texttt{newspaper}) &= \\mathbb{E}[\\texttt{sales}\\mid \\texttt{TV},\\,\\texttt{radio},\\,\\texttt{newspaper}]\\\\\n",
    "  &\\approx a + b\\,\\texttt{TV} + c\\,\\texttt{radio} + d\\,\\texttt{newspaper}\n",
    "  \\end{aligned}\n",
    "  $$\n"
   ]
  },
  {
   "cell_type": "markdown",
   "metadata": {},
   "source": [
    "#### Example: Credit card default prediction\n",
    "\n",
    "- We want to predict whether a customers will default on their credit card debt based on income, monthly balance, and studentness.\n",
    "\n",
    "- We model a customer defaulting using the **logistic regression model**:\n",
    "  $$\n",
    "  y\\sim \\operatorname{Bernoulli}\\big(\\texttt{default}\\mid p\\big),\n",
    "  $$\n",
    "  where\n",
    "  $$\n",
    "  \\log\\left(\\frac p{1-p}\\right) = a + b\\,\\texttt{income}+c\\,\\texttt{balance} + d\\,\\texttt{student}\n",
    "  $$\n"
   ]
  },
  {
   "cell_type": "markdown",
   "metadata": {},
   "source": [
    "#### Predictive models can inform decisions\n",
    "\n",
    "- How can we adjust our advertising stragety to increase sales?\n",
    "\n",
    "- Should we approve an applicants credit card application?\n",
    "\n",
    "##### ⚠ Models don't know the big picture. ⚠\n",
    "\n",
    "- Our advertising model doesn't know about Youtube, Facebook, TikTok, etc. It gives a single predictive model for all 200 markets, so it has no \"local knowledge\".\n",
    "\n",
    "- Decision on a credit card application depends on our risk tolerance in addition to the applicant's risk. Also, we need to decide on an interest rate.\n"
   ]
  },
  {
   "cell_type": "markdown",
   "metadata": {},
   "source": [
    "#### Inference from models\n",
    "\n",
    "- Sometimes, it's okay to use a model as a _black box_ for generating predictions.\n",
    "\n",
    "- Other times, we want more refined, granular understanding of the association between the target/output variable $y$ and the input/feature/predictor variables $x$.\n",
    "\n",
    "  - Statistical hypothesis tests about model parameters.\n",
    "\n",
    "  - Model **_interpretation_** and **_insights_**.\n"
   ]
  },
  {
   "cell_type": "markdown",
   "metadata": {},
   "source": [
    "#### Interpreting the coefficient of a binary feature in a logistic regression model\n",
    "\n",
    "- Odds of defaulting:&nbsp;\n",
    "  $\\displaystyle{{o} = \\frac{p}{1-p}}$\n",
    "- From the logistic regression model:\n",
    "\n",
    "  $$\n",
    "  \\begin{aligned}\n",
    "  \\log\\frac{o_{\\text{student}}}\n",
    "  {o_{\\text{nonstudent}}} &=\n",
    "  \\log\\left(\\frac{p_{\\text{student}}}{1-p_{\\text{student}}}\\right) - \\log\\left(\\frac{p_{\\text{nonstudent}}}{1-p_{\\text{nonstudent}}}\\right)\\\\\n",
    "  &= \\phantom{-}(a + b\\,\\texttt{income}+c\\,\\texttt{balance} + d\\,(1))\\\\&\\phantom{=}-(a + b\\,\\texttt{income}+c\\,\\texttt{balance} + d\\,(0))\\\\\n",
    "  &= d\\\\\n",
    "  \\frac{o_{\\text{student}}}{o_{\\text{nonstudent}}} &= e^{d}\\approx 0.54\n",
    "  \\end{aligned}\n",
    "  $$\n",
    "\n",
    "- **_The odds of a student defaulting are roughly half those of a nonstudent with comparable income and balance._**\n"
   ]
  },
  {
   "cell_type": "markdown",
   "metadata": {},
   "source": [
    "#### Exercise\n",
    "\n",
    "- For each of the following target variables $y$, what feature variables $x$ might be associated with $y$? Would a model predicting $y$ from these $x$ be useful as _black box_ for generating predictions? Could useful inferences be drawn from such a model?\n",
    "\n",
    "  - $y$ = weight of newborn baby\n",
    "\n",
    "  - $y$ = demand for avocados\n",
    "\n",
    "  - $y$ = standardized test score\n",
    "\n",
    "  - $y$ = Customer purchased upgrade?\n",
    "\n",
    "  - $y$ = Cancer returned within 10 years?\n",
    "\n",
    "  - $y$ = next token\n"
   ]
  },
  {
   "cell_type": "markdown",
   "metadata": {},
   "source": [
    "#### Fitting a `scikit-learn` model to data\n",
    "\n",
    "```python\n",
    "import pandas as pd\n",
    "from sklearn.linear_model import LogisticRegression\n",
    "\n",
    "data = pd.read_csv(\"data/Default.csv\")\n",
    "X = data[[\"income\", \"balance\", \"student\"]]\n",
    "y = data[\"default\"]\n",
    "\n",
    "model = LogisticRegression()\n",
    "model.fit(X, y)\n",
    "print(model.intercept_, model.coef_)\n",
    "```\n",
    "\n",
    "`[-10.9018116] [[ 3.96189932e-06  5.73060606e-03 -6.12564504e-01]]`\n"
   ]
  },
  {
   "cell_type": "markdown",
   "metadata": {},
   "source": [
    "#### Using a `scikit-learn` model to predict class labels\n",
    "\n",
    "- Will a student (resp., nonstudent) with an income of $10,000 and a balance of $1950 default?\n",
    "\n",
    "  ```python\n",
    "  x = pd.DataFrame({\n",
    "      \"income\": [10000, 10000],\n",
    "      \"balance\": [1950, 1950],\n",
    "      \"student\": [1, 0]\n",
    "  })\n",
    "  model.predict(x)\n",
    "  ```\n",
    "\n",
    "  `array([0, 1])`\n",
    "\n",
    "- The model perdicts that the student won't default (prediction `0`) but the nonstudent will (prediction `1`).\n"
   ]
  },
  {
   "cell_type": "markdown",
   "metadata": {},
   "source": [
    "#### Using a `scikit-learn` model to predict probabilities\n",
    "\n",
    "- What is the probability that a student (resp., nonstudent) with an income of $10,000 and a balance of $1950 default?\n",
    "\n",
    "  ```python\n",
    "  model.predict_proba(x)\n",
    "  ```\n",
    "\n",
    "  ```\n",
    "  array([[0.57446092, 0.42553908],\n",
    "       [0.42250727, 0.57749273]])\n",
    "  ```\n",
    "\n",
    "- The first column of the output is probability of class label `0` (no default); the second column is the probability of class label `1` (default).\n",
    "\n",
    "- The predicted class label is the one with the larger probability:\n",
    "\n",
    "  ```python\n",
    "  assert np.all(model.predict_proba(x).argmax(axis=1) == model.predict(x))\n",
    "  ```\n"
   ]
  },
  {
   "cell_type": "markdown",
   "metadata": {},
   "source": [
    "#### Exercises\n",
    "\n",
    "- **(1)** Use the probabilities from `model.predict_proba(x)` to confirm that\n",
    "\n",
    "  $$\n",
    "  \\frac{o_{\\text{student}}}{o_{\\text{nonstudent}}} = 0.54.\n",
    "  $$\n",
    "\n",
    "- **(2)** The file `data/enrollment.csv` contains (fake) historical data on SAT scores and GPAs of university applicants, together with the scholarship they were offered and whether they ended up enrolling.\n",
    "\n",
    "  - **(a)** Fit a logistic regression model to predict whether a student will enroll given their SAT score, GPA, and scholarship offer.\n",
    "\n",
    "  - **(b)** Plot predicted enrollment probability versus scholarshop offer for a student with an SAT score of 1300 and a GPA of 3.3. What scholarship offer will result in an 80% chance of such a student enrolling?\n"
   ]
  },
  {
   "cell_type": "code",
   "execution_count": 2,
   "metadata": {},
   "outputs": [],
   "source": [
    "# (a)\n",
    "\n",
    "from sklearn.linear_model import LogisticRegression\n",
    "\n",
    "data = pd.read_csv(\"data/Default.csv\")\n",
    "X = data[[\"income\", \"balance\", \"student\"]]\n",
    "y = data[\"default\"]\n",
    "\n",
    "model = LogisticRegression()\n",
    "model.fit(X, y)\n",
    "\n",
    "p_student = 0.42553908\n",
    "p_nonstudent = 0.57749273\n",
    "\n",
    "o_student = p_student / (1 - p_student)\n",
    "o_nonstudent = p_nonstudent / (1 - p_nonstudent)\n",
    "\n",
    "assert np.round(o_student / o_nonstudent, 2) == 0.54\n",
    "assert np.isclose(np.log(o_student / o_nonstudent), model.coef_.squeeze()[-1])"
   ]
  },
  {
   "cell_type": "code",
   "execution_count": 6,
   "metadata": {},
   "outputs": [
    {
     "name": "stdout",
     "output_type": "stream",
     "text": [
      "Minimal scholarship with acceptance probability > 0.8 = $9900\n"
     ]
    },
    {
     "data": {
      "image/png": "[encoded data removed]",
      "text/plain": [
       "<Figure size 640x480 with 1 Axes>"
      ]
     },
     "metadata": {},
     "output_type": "display_data"
    }
   ],
   "source": [
    "# (b)\n",
    "\n",
    "data = pd.read_csv(\"data/enrollment.csv\")\n",
    "X = data[[\"SAT\", \"GPA\", \"scholarship\"]]\n",
    "y = data[\"enroll\"]\n",
    "\n",
    "model = LogisticRegression()\n",
    "model.fit(X, y)\n",
    "\n",
    "scholarship = np.arange(0, 25000, 100)\n",
    "\n",
    "x = pd.DataFrame(\n",
    "    {\n",
    "        \"SAT\": [1300 for _ in scholarship],\n",
    "        \"GPA\": [3.3 for _ in scholarship],\n",
    "        \"scholarship\": scholarship,\n",
    "    }\n",
    ")\n",
    "\n",
    "p = model.predict_proba(x)[:, 1]\n",
    "s = int(scholarship[np.argmax(p > 0.8)])\n",
    "\n",
    "plt.plot([0, 25000], [0.8, 0.8], \"k\")  # horizontal \"threshold\" line\n",
    "plt.plot([s, s], [0, 1], \"k\")  # scholarship value exceeding threshold\n",
    "plt.plot(scholarship, p, lw=3)\n",
    "\n",
    "\n",
    "print(f\"Minimal scholarship with acceptance probability > 0.8 = ${s}\")"
   ]
  },
  {
   "cell_type": "markdown",
   "metadata": {},
   "source": [
    "#### Nonparametric models\n",
    "\n",
    "- Sometimes (often), linear models just don't fit a dataset.\n",
    "\n",
    "- By contrast, nonparametric models are extremely flexible and can be fit to datasets displaying nonlinear patterns.\n",
    "\n",
    "- There are tradeoffs! More on those later.\n"
   ]
  },
  {
   "cell_type": "markdown",
   "metadata": {},
   "source": [
    "#### Example: Curve fitting\n"
   ]
  },
  {
   "cell_type": "code",
   "execution_count": 9,
   "metadata": {},
   "outputs": [
    {
     "data": {
      "image/png": "[encoded data removed]",
      "text/plain": [
       "<Figure size 640x480 with 1 Axes>"
      ]
     },
     "metadata": {},
     "output_type": "display_data"
    }
   ],
   "source": [
    "from sklearn.neighbors import KNeighborsRegressor\n",
    "\n",
    "\n",
    "def make_data(n=100, random_state=None):\n",
    "    rng = np.random.default_rng(random_state)\n",
    "    x = rng.uniform(size=n)\n",
    "    y = 10 * x * (x - 0.2) * (x - 0.9) + 10 * x * 0.02 * rng.normal(size=n)\n",
    "    return x, y\n",
    "\n",
    "\n",
    "x, y = make_data(random_state=0)\n",
    "X = x.reshape(-1, 1)\n",
    "plt.scatter(x, y, alpha=0.5)\n",
    "\n",
    "model = KNeighborsRegressor()\n",
    "model.fit(X, y)\n",
    "\n",
    "u = np.linspace(0, 1, 100)\n",
    "v = model.predict(u.reshape(-1, 1))\n",
    "plt.title(\"5-nearest neighbors regression\")\n",
    "plt.plot(u, v, lw=3, color=\"C1\")\n",
    "plt.show()"
   ]
  },
  {
   "cell_type": "markdown",
   "metadata": {},
   "source": [
    "### Nearest neighbors: How it works\n",
    "\n",
    "- An excuse to talk about **broadcasting** in Numpy."
   ]
  },
  {
   "cell_type": "code",
   "execution_count": 10,
   "metadata": {},
   "outputs": [
    {
     "name": "stdout",
     "output_type": "stream",
     "text": [
      "[[1 2 3]]\n",
      "4\n"
     ]
    },
    {
     "data": {
      "text/plain": [
       "array([[5, 6, 7]])"
      ]
     },
     "execution_count": 10,
     "metadata": {},
     "output_type": "execute_result"
    }
   ],
   "source": [
    "a = np.array([[1, 2, 3]])\n",
    "print(a)\n",
    "\n",
    "b = 4\n",
    "print(b)\n",
    "\n",
    "a + b"
   ]
  },
  {
   "cell_type": "code",
   "execution_count": 11,
   "metadata": {},
   "outputs": [
    {
     "name": "stdout",
     "output_type": "stream",
     "text": [
      "[[1 2 3]]\n",
      "[[4]\n",
      " [5]]\n",
      "[[5 6 7]\n",
      " [6 7 8]]\n",
      "[[5 6 7]\n",
      " [6 7 8]]\n"
     ]
    }
   ],
   "source": [
    "a = np.array([[1, 2, 3]])\n",
    "print(a)\n",
    "\n",
    "b = np.array([[4], [5]])\n",
    "print(b)\n",
    "\n",
    "print(a + b)\n",
    "\n",
    "A = np.array([[1, 2, 3], [1, 2, 3]])\n",
    "B = np.array([[4, 4, 4], [5, 5, 5]])\n",
    "print(A + B)"
   ]
  },
  {
   "cell_type": "code",
   "execution_count": 30,
   "metadata": {},
   "outputs": [
    {
     "name": "stdout",
     "output_type": "stream",
     "text": [
      "[[11 92  3 20 13]\n",
      " [11 92  3 20 13]\n",
      " [92  3 11 20 13]\n",
      " [92  3 11 20 13]\n",
      " [ 3 92 20 13 11]]\n"
     ]
    }
   ],
   "source": [
    "from sklearn.neighbors import NearestNeighbors\n",
    "\n",
    "nn = NearestNeighbors()\n",
    "nn.fit(X)\n",
    "\n",
    "u = np.linspace(0, 1, 200)\n",
    "U = u.reshape(-1, 1)\n",
    "distances, indices = nn.kneighbors(U)\n",
    "print(indices[:5])\n",
    "\n",
    "assert np.all(distances[:, 1:] > distances[:, :-1])  # distances increase along rows\n",
    "assert np.all(indices == np.abs(U - X.T).argsort(axis=1)[:, :5])  # broadcasting! 😎\n",
    "\n",
    "\n",
    "w = y[indices].mean(axis=1)  # average the y-values for the nearest neighbors\n",
    "\n",
    "assert np.allclose(w, model.predict(U))"
   ]
  },
  {
   "cell_type": "markdown",
   "metadata": {},
   "source": [
    "#### Challenge exercise\n",
    "\n",
    "1. Write your own version of `NearestNeighbors.kneighbors` to compute nearest neighbors for a $p$-dimensional dataset. (We did the $1$-dimensional case above.) Concretely, write a function that takes as input:\n",
    "   - an integer `n_neighbors`;\n",
    "  \n",
    "   - a 2-dimensional numpy array `X_train`;\n",
    "  \n",
    "   - a 2-dimensional numpy array `X_test`;\n",
    "\n",
    "   and returns a tuple `(distances, indices)`, where\n",
    "  \n",
    "   - `indices` is the numpy array of shape `(X_test.shape[0], n_neighbors)` whose `i`-th row lists the indices of the `n_neighbors` elements (rows) of `X_train` closest (Euclidean distance) to `X_test[i]`, listed in increasing order of distance;\n",
    "\n",
    "   - `distance` is the numpy array of shape `(X_test.shape[0], n_neighbors)` whose `(i, j)`-entry is the distance from `X_test[i]` to `X_train[indices[i, j]]`.\n",
    "\n",
    "   Check your work using randomly generated data and `NearestNeighbors.kneighbors`."
   ]
  },
  {
   "cell_type": "code",
   "execution_count": 182,
   "metadata": {},
   "outputs": [],
   "source": [
    "def kneighbors(n_neighbors, X_train, X_test):\n",
    "    \n",
    "    dists = np.linalg.norm(X_train[None, :, :] - X_test[:, None, :], axis=2)\n",
    "\n",
    "    # Get indices of the k nearest neighbors\n",
    "    indices = np.argsort(dists, axis=1)[:, :n_neighbors]\n",
    "\n",
    "    # Sort and retrieve distances corresponding to the nearest indices\n",
    "    distances = np.take_along_axis(dists, indices, axis=1)\n",
    "\n",
    "    return distances, indices\n",
    "\n",
    "\n"
   ]
  },
  {
   "cell_type": "markdown",
   "metadata": {},
   "source": [
    "2. Redo the previous exercise in the \"scikit-learn style\". \n",
    "\n",
    "   Instead of writing a function `kneighbors`, write a class `MyNearestNeighbors` such that:\n",
    "\n",
    "   - It's initilization method takes a single integer argument `n_neighbors` and stores it on the instance.\n",
    "\n",
    "   - It has a `fit` method that takes a single `ndarray` argument `X_train` and stores it on the instance.\n",
    "\n",
    "   - It has a `kneighbors` method that takes a single `ndarray argument `X_test` as input and outputs a tuple `(indices, distances)` as in the previous exercise.\n",
    "\n",
    "   If you identify as hard-core, use [`sklearn.utils.estimator_checks.check_estimator`](sklearn.utils.estimator_checks.check_estimator) to verify that your estimator conforms to Scikit Learn conventions. Further reading: [Developing scikit-learn estimators](https://scikit-learn.org/stable/developers/develop.html#rolling-your-own-estimator) "
   ]
  },
  {
   "cell_type": "code",
   "execution_count": 185,
   "metadata": {},
   "outputs": [],
   "source": [
    "class MyNearestNeighbors:\n",
    "    def __init__(self, n_neighbors): \n",
    "        self.n_neighbors = n_neighbors\n",
    "\n",
    "    def fit(self, X_train):\n",
    "        self.X_train = X_train\n",
    "\n",
    "    def kneighbors(self, X_test):\n",
    "        dists = np.linalg.norm(self.X_train[None, :, :] - X_test[:, None, :], axis=2)\n",
    "\n",
    "        # Get indices of the k nearest neighbors\n",
    "        indices = np.argsort(dists, axis=1)[:, :self.n_neighbors]\n",
    "\n",
    "        # Sort and retrieve distances corresponding to the nearest indices\n",
    "        distances = np.take_along_axis(dists, indices, axis=1)\n",
    "\n",
    "        return (distances, indices)"
   ]
  },
  {
   "cell_type": "code",
   "execution_count": 186,
   "metadata": {},
   "outputs": [
    {
     "name": "stdout",
     "output_type": "stream",
     "text": [
      "[[0 9 7 6 5]\n",
      " [2 1 5 6 0]\n",
      " [4 6 2 9 0]\n",
      " [4 6 9 2 0]\n",
      " [4 9 6 3 8]]\n"
     ]
    }
   ],
   "source": [
    "X_train=np.random.rand(10,2)\n",
    "X_test=np.random.rand(5,2)\n",
    "knn=MyNearestNeighbors(n_neighbors=5)\n",
    "knn.fit(X_train)\n",
    "distances, indices = knn.kneighbors(X_test)\n",
    "print(indices[:5])"
   ]
  },
  {
   "cell_type": "markdown",
   "metadata": {},
   "source": [
    "### Nearest neighbors classification"
   ]
  },
  {
   "cell_type": "markdown",
   "metadata": {},
   "source": [
    "#### Choices!\n"
   ]
  },
  {
   "cell_type": "code",
   "execution_count": 188,
   "metadata": {},
   "outputs": [
    {
     "data": {
      "image/png": "[encoded data removed]",
      "text/plain": [
       "<Figure size 900x300 with 3 Axes>"
      ]
     },
     "metadata": {},
     "output_type": "display_data"
    }
   ],
   "source": [
    "fig, axes = plt.subplots(nrows=1, ncols=3, figsize=(9, 3), sharex=True, sharey=True)\n",
    "\n",
    "for ax, n_neighbors in zip(axes, [50, 5, 1]):\n",
    "    ax.scatter(x, y, alpha=0.5, s=20)\n",
    "    ax.set_xticks([])\n",
    "    ax.set_yticks([])\n",
    "    model = KNeighborsRegressor(n_neighbors=n_neighbors)\n",
    "    model.fit(X, y)\n",
    "    v = model.predict(u.reshape(-1, 1))\n",
    "    ax.plot(u, v, lw=2, color=\"C1\")\n",
    "\n",
    "axes[0].set_title(\"n_neighbors = 50\")\n",
    "axes[1].set_title(\"n_neighbors = 5\")\n",
    "axes[2].set_title(\"n_neighbors = 1\")\n",
    "plt.show()"
   ]
  },
  {
   "cell_type": "markdown",
   "metadata": {},
   "source": [
    "#### Quality of fit\n",
    "\n",
    "- For regression models, the most commonly used measure of fit quality is **mean-squared error (MSE)**.\n",
    "\n",
    "  $$\n",
    "  \\operatorname{MSE} = \\frac1n\\sum_{i<n}(y_i - \\hat{f}(x_i))^2\n",
    "  $$\n",
    "\n",
    "- For the nearest neighbors fits computed above:\n",
    "  <center>\n",
    "\n",
    "  | `n_neighbors` | MSE  |\n",
    "  | ------------: | ---- |\n",
    "  |            50 | 0.13 |\n",
    "  |             5 | 0.01 |\n",
    "  |             1 | 0.00 |\n",
    "\n",
    "  </center>\n",
    "\n",
    "- Is the 1-nearest neighbors fit better than the 5-nearest neighbors fit?\n"
   ]
  }
 ],
 "metadata": {
  "kernelspec": {
   "display_name": "base",
   "language": "python",
   "name": "python3"
  },
  "language_info": {
   "codemirror_mode": {
    "name": "ipython",
    "version": 3
   },
   "file_extension": ".py",
   "mimetype": "text/x-python",
   "name": "python",
   "nbconvert_exporter": "python",
   "pygments_lexer": "ipython3",
   "version": "3.12.7"
  }
 },
 "nbformat": 4,
 "nbformat_minor": 2
}
