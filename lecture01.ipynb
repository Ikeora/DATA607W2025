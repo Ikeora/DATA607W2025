{
 "cells": [
  {
   "cell_type": "code",
   "execution_count": 5,
   "metadata": {},
   "outputs": [],
   "source": [
    "import numpy as np\n",
    "import pandas as pd\n",
    "from matplotlib import pyplot as plt"
   ]
  },
  {
   "cell_type": "markdown",
   "metadata": {},
   "source": [
    "# DATA 607 - Machine Learning\n",
    "## Class 1: Introduction\n",
    "### 2025.02.24"
   ]
  },
  {
   "cell_type": "markdown",
   "metadata": {},
   "source": [
    "#### Machine learning\n",
    "\n",
    "- *Learn*, from data $(x_i, y_i)$, relationship between *variables* $x$ and $y$.\n",
    "\n",
    "- Relationship is *stochastic*:\n",
    "\n",
    "  $$\n",
    "  y\\sim p(y\\mid x)\n",
    "  $$\n",
    "\n",
    "- $p_?$ is *unknown* and *unknowable*.\n",
    "\n",
    "- Learn an approximation to $p$ itself or to its **regression function**,\n",
    "\n",
    "  $$\n",
    "  f(x) =\\mathbb{E}[y\\mid x].\n",
    "  $$"
   ]
  },
  {
   "cell_type": "markdown",
   "metadata": {},
   "source": [
    "#### Example: Predicting sales from ad spend\n",
    "\n",
    "> \"Suppose that we are statistical consultants hired by a client to\n",
    "investigate the association between advertising and sales of a particular\n",
    "product.\"\n",
    "\n",
    "- We're given sales numbers and ad spend on TV, radio, and newspaper for 200 markets.\n",
    "\n",
    "- We don't know $p$, the true distribution of sales given ad spend, but we might approximate it by the **linear model**:\n",
    "  $$\n",
    "  p \\approx \\operatorname{Normal}(\\texttt{sales}\\mid a + b\\,\\texttt{TV} + c\\,\\texttt{radio} + d\\,\\texttt{newspaper},\\,\\sigma^2)\n",
    "  $$\n",
    "\n",
    "- If we don't care about $\\sigma^2$, we might just estimate the regression function, $f$:\n",
    "$$\n",
    "\\begin{aligned}\n",
    "f(\\texttt{TV},\\,\\texttt{radio},\\,\\texttt{newspaper}) &= \\mathbb{E}[\\texttt{sales}\\mid \\texttt{TV},\\,\\texttt{radio},\\,\\texttt{newspaper}]\\\\\n",
    "&\\approx a + b\\,\\texttt{TV} + c\\,\\texttt{radio} + d\\,\\texttt{newspaper}\n",
    "\\end{aligned}\n",
    "$$\n"
   ]
  },
  {
   "cell_type": "markdown",
   "metadata": {},
   "source": [
    "#### Example: Credit card default prediction\n",
    "\n",
    "- We want to predict whether a customers will default on their credit card debt based on income, monthly balance, and studentness.\n",
    "\n",
    "- We model a customer defaulting using the **logistic regression model**:\n",
    "  $$\n",
    "  y\\sim \\operatorname{Bernoulli}\\big(\\texttt{default}\\mid p\\big),\n",
    "  $$\n",
    "  where\n",
    "  $$\n",
    "  \\log\\left(\\frac p{1-p}\\right) = a + b\\,\\texttt{income}+c\\,\\texttt{balance} + d\\,\\texttt{student}\n",
    "  $$"
   ]
  },
  {
   "cell_type": "markdown",
   "metadata": {},
   "source": [
    "#### Predictive models can inform decisions\n",
    "\n",
    "  - How can we adjust our advertising stragety to increase sales?\n",
    "\n",
    "  - Should we approve an applicants credit card application?\n",
    "\n",
    "##### ⚠ Models don't know the big picture. ⚠\n",
    "\n",
    "  - Our advertising model doesn't know about Youtube, Facebook, TikTok, etc. It gives a single predictive model for all 200 markets, so it has no \"local knowledge\".\n",
    "\n",
    "  - Decision on a credit card application depends on our risk tolerance in addition to the applicant's risk. Also, we need to decide on an interest rate."
   ]
  },
  {
   "cell_type": "markdown",
   "metadata": {},
   "source": [
    "#### Inference from models\n",
    "\n",
    "- Sometimes we are content to use a model as a *black box* for generating predictions. \n",
    "\n",
    "- Other times, we want more refined, granular understanding of the association between the target/output variable $y$ and the input/feature/predictor variables $x$.\n",
    "\n",
    "  - Statistical hypothesis tests about model parameters.\n",
    "\n",
    "  - Model interpretation and insights."
   ]
  },
  {
   "cell_type": "markdown",
   "metadata": {},
   "source": [
    "#### Example: An insight from the credit card default model\n",
    "\n",
    "- Odds of defaulting:&nbsp;\n",
    "$\\displaystyle{{o} = \\frac{p}{1-p}}$\n",
    "- From the logistic regression model:\n",
    "$$\n",
    "\\begin{aligned}\n",
    "\\log\\frac{o_{\\text{student}}}\n",
    "{o_{\\text{nonstudent}}} &=\n",
    "\\log\\left(\\frac{p_{\\text{student}}}{1-p_{\\text{student}}}\\right) - \\log\\left(\\frac{p_{\\text{nonstudent}}}{1-p_{\\text{nonstudent}}}\\right)\\\\\n",
    "&= \\phantom{-}(a + b\\,\\texttt{income}+c\\,\\texttt{balance} + d\\,(1))\\\\&\\phantom{=}-(a + b\\,\\texttt{income}+c\\,\\texttt{balance} + d\\,(0))\\\\\n",
    "&= d\\\\\n",
    "\\frac{o_{\\text{student}}}{o_{\\text{nonstudent}}} &= e^{d}\\approx 0.54\n",
    "\\end{aligned}\n",
    "$$\n",
    "\n",
    "- ***The odds of a student defaulting are roughly half those of a nonstudent with comparable income and balance.***"
   ]
  },
  {
   "cell_type": "markdown",
   "metadata": {},
   "source": [
    "#### Exercise\n",
    "\n",
    "- For each of the following target variables $y$, what feature variables $x$ might be associated with $y$? Would a model predicting $y$ from these $x$ be useful as *black box* for generating predictions? Could useful inferences be drawn from such a model?\n",
    "\n",
    "  - $y$ = weight of newborn baby\n",
    "\n",
    "  - $y$ = demand for avocados\n",
    "\n",
    "  - $y$ = standardized test score\n",
    "\n",
    "  - $y$ = Customer purchased upgrade?\n",
    "\n",
    "  - $y$ = Cancer returned within 10 years?\n",
    "\n",
    "  - $y$ = next token\n",
    "\n"
   ]
  },
  {
   "cell_type": "markdown",
   "metadata": {},
   "source": [
    "#### Fitting a `scikit-learn` model to data\n",
    "\n",
    "```python\n",
    "import pandas as pd\n",
    "from sklearn.linear_model import LogisticRegression\n",
    "\n",
    "data = pd.read_csv(\"data/Default.csv\")\n",
    "X = data[[\"income\", \"balance\", \"student\"]]\n",
    "y = data[\"default\"]\n",
    "\n",
    "model = LogisticRegression()\n",
    "model.fit(X, y)\n",
    "print(model.intercept_, model.coef_)\n",
    "```\n",
    "\n",
    "`[-10.9018116] [[ 3.96189932e-06  5.73060606e-03 -6.12564504e-01]]`"
   ]
  },
  {
   "cell_type": "markdown",
   "metadata": {},
   "source": [
    "#### Using a `scikit-learn` model to predict\n",
    "\n",
    "- Will a student (resp., nonstudent) with an income of $10,000 and a balance of $1950 default?\n",
    "\n",
    "  ```python\n",
    "  x = pd.DataFrame({\n",
    "      \"income\": [10000, 10000],\n",
    "      \"balance\": [1950, 1950],\n",
    "      \"student\": [1, 0]\n",
    "  })\n",
    "  model.predict(x)\n",
    "  ```\n",
    "\n",
    "  `array([0, 1])`\n",
    "\n",
    "- The model perdicts that the student won't default (prediction `0`) but the nonstudent will (prediction `1`)."
   ]
  },
  {
   "cell_type": "markdown",
   "metadata": {},
   "source": [
    "#### Using a `scikit-learn` model to predict probabilities\n",
    "\n",
    "- What is the probability that a student (resp., nonstudent) with an income of $10,000 and a balance of $1950 default?\n",
    "\n",
    "  ```python\n",
    "  model.predict_proba(x)\n",
    "  ```\n",
    "  ```\n",
    "  array([[0.57446092, 0.42553908],\n",
    "       [0.42250727, 0.57749273]])\n",
    "  ```\n",
    "\n",
    "- The first column of the output is probability of class label `0` (no default); the second column is the probability of class label `1` (default).\n",
    "\n",
    "- The predicted class label is the one with the larger probability:\n",
    "\n",
    "  ```python\n",
    "  assert np.all(model.predict_proba(x).argmax(axis=1) == model.predict(x))\n",
    "  ```"
   ]
  },
  {
   "cell_type": "markdown",
   "metadata": {},
   "source": [
    "#### Exercises\n",
    "\n",
    "- **(1)** Use the probabilities from `model.predict_proba(x)` to confirm that\n",
    "  $$\n",
    "  \\frac{o_{\\text{student}}}{o_{\\text{nonstudent}}} = 0.54.\n",
    "  $$\n",
    "\n",
    "- **(2)** The file `data/enrollment.csv` contains (fake) historical data on SAT scores and GPAs of university applicants, together with the scholarship they were offered and whether they ended up enrolling.\n",
    "\n",
    "  - **(a)** Fit a logistic regression model to predict whether a student will enroll given their SAT score, GPA, and scholarship offer.\n",
    "\n",
    "  - **(b)** Plot predicted enrollment probability versus scholarshop offer for a student with an SAT score of 1300 and a GPA of 3.3. What scholarship offer will result in an 80% chance of such a student enrolling?"
   ]
  },
  {
   "cell_type": "markdown",
   "metadata": {},
   "source": [
    "#### Nonparametric models\n",
    "\n",
    "- The linear model assumes a particular functional form for the regression function:\n",
    "$$\n",
    "\\mathbb{E}[y\\mid x] = a + bx\n",
    "$$\n",
    "\n",
    "- Nonparametric models make no explicit assumptions about the form of $\\mathbb{E}[y\\mid x]$.\n",
    "\n",
    "- They are extremely flexible and can be fit to datasets displaying decidedly nonlinear patterns.\n",
    "\n",
    "- There are tradeoffs, though. More on those later."
   ]
  },
  {
   "cell_type": "markdown",
   "metadata": {},
   "source": [
    "#### Example: Curve fitting"
   ]
  },
  {
   "cell_type": "code",
   "execution_count": null,
   "metadata": {},
   "outputs": [
    {
     "data": {
      "text/plain": [
       "<matplotlib.collections.PathCollection at 0x1466d47d0>"
      ]
     },
     "execution_count": 106,
     "metadata": {},
     "output_type": "execute_result"
    },
    {
     "data": {
      "image/png": "[encoded data removed]",
      "text/plain": [
       "<Figure size 640x480 with 1 Axes>"
      ]
     },
     "metadata": {},
     "output_type": "display_data"
    }
   ],
   "source": [
    "from sklearn.neighbors import KNeighborsRegressor\n",
    "\n",
    "\n",
    "def make_data(n=100):\n",
    "    x = np.random.uniform(size=n)\n",
    "    y = 10 * x * (x - 0.2) * (x - 0.9) + (10 * x + 1) * 0.02 * np.random.normal(size=n)\n",
    "    return x, y\n",
    "\n",
    "\n",
    "x, y = make_data()\n",
    "plt.scatter(x, y, alpha=0.6)\n",
    "\n",
    "model = KNeighborsRegressor()"
   ]
  },
  {
   "cell_type": "code",
   "execution_count": null,
   "metadata": {},
   "outputs": [],
   "source": []
  }
 ],
 "metadata": {
  "kernelspec": {
   "display_name": ".venv",
   "language": "python",
   "name": "python3"
  },
  "language_info": {
   "codemirror_mode": {
    "name": "ipython",
    "version": 3
   },
   "file_extension": ".py",
   "mimetype": "text/x-python",
   "name": "python",
   "nbconvert_exporter": "python",
   "pygments_lexer": "ipython3",
   "version": "3.13.0"
  }
 },
 "nbformat": 4,
 "nbformat_minor": 2
}
